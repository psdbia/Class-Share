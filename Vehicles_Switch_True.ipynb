{
    "metadata": {
        "kernelspec": {
            "name": "SQL",
            "display_name": "SQL",
            "language": "sql"
        },
        "language_info": {
            "name": "sql",
            "version": ""
        }
    },
    "nbformat_minor": 2,
    "nbformat": 4,
    "cells": [
        {
            "cell_type": "markdown",
            "source": [
                "# Casualties to Vehicles - UK Data\n",
                "\n",
                "## Use Case:\n",
                "\n",
                "With the new view titled stg.vehicles, analysts need the casualties per vehicle to be categorized as following:\n",
                "\n",
                "Casuality Count and 'Bucket':\n",
                "\n",
                "- 0 - None\n",
                "- 1 - Single\n",
                "- 2 to 4 - Multiple\n",
                "- 5 to 10 - High Multiple\n",
                "- Greater than 10 - Exteme Multiple"
            ],
            "metadata": {
                "azdata_cell_guid": "d908f167-5ae1-4404-a2d2-8f8fd3c66ae2"
            },
            "attachments": {}
        },
        {
            "cell_type": "markdown",
            "source": [
                "## Current State:\n",
                "\n",
                "A view is available that contains the count of casualties per vehicle. The code to create the view is show below:  \n",
                "```\n",
                "USE [UK_Accidents_I]\n",
                "GO\n",
                "\n",
                "\n",
                "/*\n",
                "Vehicles with casualties\n",
                "-- Requirements:\n",
                "  1) All fields from stg.Vehicles\n",
                "  2) Count of Casualties in each vehicle \"vehicle_casualty_count\"\n",
                "  3) A constant field (or flag) that show that this is a \"casualty_vehicle\" make it 1\n",
                "*/\n",
                "CREATE  OR ALTER VIEW [stg].[Vehicles_Enhanced] AS\n",
                "SELECT veh.accident_index\n",
                "\t  ,veh.accident_reference\n",
                "\t  ,veh.vehicle_reference\n",
                "\t  ,veh.vehicle_type\n",
                "\t  ,veh.sex_of_driver\n",
                "\t  ,veh.age_band_of_driver\n",
                "\t  ,1 as 'casualty_vehicle'\n",
                "\t  ,veh.age_of_driver\n",
                "\t  ,count(*) as vehicle_casualty_count\n",
                "FROM stg.Vehicles veh\n",
                "\t INNER JOIN stg.Casualties cas\n",
                "\t ON veh.accident_index = cas.accident_index\n",
                "\t    AND veh.accident_reference = cas.accident_reference\n",
                "\t    AND veh.vehicle_reference = cas.vehicle_reference\n",
                "GROUP BY veh.accident_index\n",
                "\t  ,veh.accident_reference\n",
                "\t  ,veh.vehicle_reference\n",
                "\t  ,veh.vehicle_type\n",
                "\t  ,veh.sex_of_driver\n",
                "\t  ,veh.age_band_of_driver\n",
                "\t  ,veh.age_of_driver\n",
                "\n",
                "UNION ALL\n",
                "\n",
                "SELECT veh.accident_index\n",
                "\t  ,veh.accident_reference\n",
                "\t  ,veh.vehicle_reference\n",
                "\t  ,veh.vehicle_type\n",
                "\t  ,veh.sex_of_driver\n",
                "\t  ,veh.age_band_of_driver\n",
                "\t  ,0 as 'casualty_vehicle'\n",
                "\t  ,veh.age_of_driver\n",
                "\t  ,0 as vehicle_casualty_count\n",
                "FROM stg.Vehicles veh\n",
                "LEFT OUTER JOIN (SELECT DISTINCT veh.*\n",
                "\t\t\t\t FROM stg.Vehicles veh\n",
                "\t\t\t\t INNER JOIN stg.Casualties cas\n",
                "\t\t\t\t\tON veh.accident_index = cas.accident_index\n",
                "\t\t\t\t\tAND veh.accident_reference = cas.accident_reference\n",
                "\t\t\t\t\tAND veh.vehicle_reference = cas.vehicle_reference) vwc\n",
                "\t\t\t\t\tON veh.accident_index = vwc.accident_index\n",
                "\t\t\t\t\tAND veh.vehicle_reference = vwc.vehicle_reference\n",
                "\t\t\t\t\tWHERE vwc.accident_index is null\n",
                ";\n",
                "\n",
                "\n",
                "GO\n",
                "```"
            ],
            "metadata": {
                "azdata_cell_guid": "0b31d950-36d9-4520-9c69-655a8816a37a"
            },
            "attachments": {}
        },
        {
            "cell_type": "markdown",
            "source": [
                "## Solution:\n",
                "\n",
                "Use a SWITCH statement in PowerPivot (DAX) to create the required field / feature. The field / feature name will be _casualty\\_to\\_vehicle\\_classification_.\n",
                "\n",
                "The switch statement for _casualty\\_to\\_vehicle\\_classification_ is as follows:\n",
                "\n",
                "```\n",
                "casualty_to_vehicle_classification:=SWITCH(TRUE(),qCasualtyToVehicle[vehicle_casualty_count] = 0, \"None\"\n",
                "\t\t      ,qCasualtyToVehicle[vehicle_casualty_count] = 1, \"Single\"\n",
                "\t\t      ,qCasualtyToVehicle[vehicle_casualty_count] <= 4, \"Multiple\"\n",
                "\t\t      ,qCasualtyToVehicle[vehicle_casualty_count] <= 10, \"High Multiple\"\n",
                "\t\t      ,qCasualtyToVehicle[vehicle_casualty_count] > 10, \"Extreme Multiple\"\n",
                "\t\t      , \"Error\")\n",
                "```"
            ],
            "metadata": {
                "azdata_cell_guid": "b593a1b2-9b3b-4164-a30b-2bce8bdac1fa"
            },
            "attachments": {}
        }
    ]
}