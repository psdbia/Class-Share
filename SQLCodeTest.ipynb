{
    "metadata": {
        "kernelspec": {
            "name": "SQL",
            "display_name": "SQL",
            "language": "sql"
        },
        "language_info": {
            "name": "sql",
            "version": ""
        }
    },
    "nbformat_minor": 2,
    "nbformat": 4,
    "cells": [
        {
            "cell_type": "markdown",
            "source": [
                "# SQL Code Test\r\n",
                "\r\n",
                "Code to follow:\r\n",
                "\r\n",
                "```SQL\r\n",
                "USE Northwind_2023;\r\n",
                "GO\r\n",
                "\r\n",
                "SELECT CONCAT(emp.FirstName, ' ', emp.LastName) as 'Employee'\r\n",
                "      ,emp.Title\r\n",
                "      ,DATEDIFF(yy, emp.BirthDate, CAST(GETDATE() as DATE)) as 'Age'\r\n",
                "FROM dbo.Employees emp\r\n",
                ";\r\n",
                "```"
            ],
            "metadata": {
                "azdata_cell_guid": "bc6e0551-d45b-4325-938b-36b0aadbdf57"
            },
            "attachments": {}
        }
    ]
}