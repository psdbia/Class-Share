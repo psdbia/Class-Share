{
 "cells": [
  {
   "cell_type": "code",
   "execution_count": 4,
   "id": "be7a59c4-8f3d-4f02-9a9a-60394699a9dc",
   "metadata": {},
   "outputs": [],
   "source": [
    "# install your libraries here"
   ]
  },
  {
   "cell_type": "code",
   "execution_count": 5,
   "id": "1ef383c6-7a10-4e80-9084-9004b06a5bc2",
   "metadata": {},
   "outputs": [],
   "source": [
    "import pandas as pd\n",
    "import seaborn as sns\n",
    "import matplotlib.pyplot as plt"
   ]
  },
  {
   "cell_type": "code",
   "execution_count": 6,
   "id": "80d46c3e-e7d0-408b-9a4d-db3d8403c31d",
   "metadata": {},
   "outputs": [],
   "source": [
    "# Raw Table Data\n",
    "index = range(1,64)\n",
    "Date = [18,19,20,21,22,23,24,25,26,27,28,29,30,1,2,3,4,5,6,7,8,9,10,11,12,13,14,15,16,17,18,19,20,21,22,23,24,25,26,27,28,29,30,31,1,2,3,4,5,6,7,8,9,10,11,12,13,14,15,16,17,18,19]\n",
    "kWh = [57.5,51.84,50.49,51.65,51.7,63.28,77.47,54.04,58.34,58.95,75.72,54.61,101.28,89.49,77.5,85,98.79,74.19,80.31,144.36,91.18,86.57,81.05,50.14,50.82,95.05,131.92,113.92,74.08,60.47,63.74,69.57,94.24,122.58,142.38,93.42,137.64,99.11,96.32,108.27,121.22,69.39,52.73,56.44,77.08,58.86,91.44,129.8,136.87,88.72,0,0,0,0,0,0,0,0,0,0,0,0,0]\n",
    "Temp = [5,6,7,6,7,7,4,4,5,5,2,4,1,-1,-1,-3,-5,1,-1,-7,-4,-2,-2,6,9,-1,-4,-5,-3,4,3,2,-2,-3,-9,-10,-7,-2,-2,-3,-4,0,4,5,1,3,-1,-4,-10,-7,-7,0,0,0,0,0,0,0,0,0,0,0,0]"
   ]
  },
  {
   "cell_type": "code",
   "execution_count": null,
   "id": "9602f481-4892-4a64-aa75-8a5522acdd0d",
   "metadata": {},
   "outputs": [],
   "source": [
    "# Create a Dictionary of the lists above, name the dictionary data\n"
   ]
  },
  {
   "cell_type": "code",
   "execution_count": 9,
   "id": "38efb0f6-5405-4f17-9a34-a44c5fb47e7b",
   "metadata": {},
   "outputs": [],
   "source": [
    "# Create a pandas DataFrame from that dictionary above, name it df\n"
   ]
  },
  {
   "cell_type": "code",
   "execution_count": 10,
   "id": "ec4ec60d-4ac6-44b5-90c6-88aa3a2266e2",
   "metadata": {},
   "outputs": [],
   "source": [
    "# create a function called \"calculate_z_scores\" that takes in a df and a column name you want to have a z-score of\n"
   ]
  },
  {
   "cell_type": "code",
   "execution_count": null,
   "id": "760ff233-0f04-4804-888a-f21996e5f4be",
   "metadata": {},
   "outputs": [],
   "source": [
    "# create two new features in the df that are the z-score of kWh and Temp\n"
   ]
  },
  {
   "cell_type": "code",
   "execution_count": 11,
   "id": "a23ae20e-0846-43e1-af2a-4fca7d3943d9",
   "metadata": {},
   "outputs": [],
   "source": [
    "# filter out all rows where kWh = 0\n"
   ]
  },
  {
   "cell_type": "code",
   "execution_count": 12,
   "id": "222cd68a-e897-4e7f-aaf4-b3b705b1e009",
   "metadata": {},
   "outputs": [],
   "source": [
    "# create a NEW feature (i.e. field) in df that returns the difference in Z scores of temp and kwh (I called mine \"Diffy\")\n"
   ]
  },
  {
   "cell_type": "code",
   "execution_count": 13,
   "id": "701e442f-fddb-4fe1-a0ba-e14a85d12d5b",
   "metadata": {},
   "outputs": [],
   "source": [
    "# Look at the Tukey 5 num of the dataset, use describe()\n"
   ]
  },
  {
   "cell_type": "code",
   "execution_count": 14,
   "id": "88148b99-ddfd-4170-a76a-89537613abbb",
   "metadata": {},
   "outputs": [],
   "source": [
    "# do pairwise comparisons - use pandas corr()\n",
    "\n",
    "# visualize with sns.heatmap\n"
   ]
  },
  {
   "cell_type": "code",
   "execution_count": null,
   "id": "565caeb7-4f87-49e8-b50e-7dead07acf6c",
   "metadata": {},
   "outputs": [],
   "source": []
  }
 ],
 "metadata": {
  "kernelspec": {
   "display_name": "Python 3 (ipykernel)",
   "language": "python",
   "name": "python3"
  },
  "language_info": {
   "codemirror_mode": {
    "name": "ipython",
    "version": 3
   },
   "file_extension": ".py",
   "mimetype": "text/x-python",
   "name": "python",
   "nbconvert_exporter": "python",
   "pygments_lexer": "ipython3",
   "version": "3.11.10"
  }
 },
 "nbformat": 4,
 "nbformat_minor": 5
}
