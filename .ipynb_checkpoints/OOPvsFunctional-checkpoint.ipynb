{
 "cells": [
  {
   "cell_type": "code",
   "execution_count": null,
   "id": "7433ee30-5286-4e64-8236-432bcb6918d5",
   "metadata": {},
   "outputs": [],
   "source": [
    "class Rectangle:\n",
    "    def __init__(self, width, height):\n",
    "        self.width = width\n",
    "        self.height = height\n",
    "\n",
    "    def area(self):\n",
    "        return self.width * self.height\n",
    "\n",
    "# Create an instance of Rectangle\n",
    "rect = Rectangle(5, 10)\n",
    "print(f\"Area of the rectangle: {rect.area()}\")"
   ]
  },
  {
   "cell_type": "code",
   "execution_count": null,
   "id": "b65c2af8-eb93-4a6a-8dae-0f1476644bf6",
   "metadata": {},
   "outputs": [],
   "source": []
  }
 ],
 "metadata": {
  "kernelspec": {
   "display_name": "Python 3 (ipykernel)",
   "language": "python",
   "name": "python3"
  },
  "language_info": {
   "codemirror_mode": {
    "name": "ipython",
    "version": 3
   },
   "file_extension": ".py",
   "mimetype": "text/x-python",
   "name": "python",
   "nbconvert_exporter": "python",
   "pygments_lexer": "ipython3",
   "version": "3.11.10"
  }
 },
 "nbformat": 4,
 "nbformat_minor": 5
}
