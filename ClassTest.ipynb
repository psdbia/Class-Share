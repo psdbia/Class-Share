{
    "metadata": {
        "kernelspec": {
            "name": "SQL",
            "display_name": "SQL",
            "language": "sql"
        },
        "language_info": {
            "name": "sql",
            "version": ""
        }
    },
    "nbformat_minor": 2,
    "nbformat": 4,
    "cells": [
        {
            "cell_type": "markdown",
            "source": [
                "# This is my Title\n",
                "\n",
                "- <span style=\"color: var(--vscode-foreground);\">List 1</span>\n",
                "- <span style=\"color: var(--vscode-foreground);\">List 2</span>\n",
                "- <span style=\"color: var(--vscode-foreground);\">List 3</span>"
            ],
            "metadata": {
                "azdata_cell_guid": "a680ad8b-bc7d-4e77-917d-93bab8871e94"
            },
            "attachments": {}
        },
        {
            "cell_type": "code",
            "source": [
                "-- DB used is a modified version of the MS Northwind DB\r\n",
                "USE Northwind_2023;\r\n",
                "GO\r\n",
                "\r\n",
                "WITH EmployeeCTE AS(\r\n",
                "SELECT EmployeeID as 'MgrID'\r\n",
                "      ,concat(FirstName, ' ', LastName) as 'Manager'\r\n",
                "\t  ,Title\r\n",
                "FROM dbo.Employees\r\n",
                "WHERE EmployeeID in (SELECT DISTINCT ReportsTo FROM dbo.Employees)\r\n",
                ")\r\n",
                "SELECT emp.EmployeeID\r\n",
                "\t  ,concat(emp.FirstName, ' ', emp.LastName) as 'Employee'\r\n",
                "\t  ,emp.Title\r\n",
                "\t  ,ISNULL(mgr.Manager, 'BOD') as 'Manager'\r\n",
                "\t  ,ISNULL(mgr.Title, 'Board of Directors') as 'Title'\r\n",
                "FROM dbo.Employees emp\r\n",
                "     LEFT OUTER JOIN EmployeeCTE mgr\r\n",
                "\t ON emp.ReportsTo = mgr.MgrID;\r\n",
                ""
            ],
            "metadata": {
                "azdata_cell_guid": "ee11fedb-157d-432c-84b6-58a201bb25dc",
                "language": "sql",
                "tags": [
                    "hide_input"
                ]
            },
            "outputs": [
                {
                    "output_type": "display_data",
                    "data": {
                        "text/html": "Commands completed successfully."
                    },
                    "metadata": {}
                },
                {
                    "output_type": "display_data",
                    "data": {
                        "text/html": "(9 rows affected)"
                    },
                    "metadata": {}
                },
                {
                    "output_type": "display_data",
                    "data": {
                        "text/html": "Total execution time: 00:00:00.003"
                    },
                    "metadata": {}
                },
                {
                    "output_type": "execute_result",
                    "metadata": {},
                    "execution_count": 1,
                    "data": {
                        "application/vnd.dataresource+json": {
                            "schema": {
                                "fields": [
                                    {
                                        "name": "EmployeeID"
                                    },
                                    {
                                        "name": "Employee"
                                    },
                                    {
                                        "name": "Title"
                                    },
                                    {
                                        "name": "Manager"
                                    },
                                    {
                                        "name": "Title"
                                    }
                                ]
                            },
                            "data": [
                                {
                                    "EmployeeID": "1",
                                    "Employee": "Nancy Davolio",
                                    "Title": "Vice President, Sales",
                                    "Manager": "Andrew Fuller"
                                },
                                {
                                    "EmployeeID": "2",
                                    "Employee": "Andrew Fuller",
                                    "Title": "Board of Directors",
                                    "Manager": "BOD"
                                },
                                {
                                    "EmployeeID": "3",
                                    "Employee": "Janet Leverling",
                                    "Title": "Vice President, Sales",
                                    "Manager": "Andrew Fuller"
                                },
                                {
                                    "EmployeeID": "4",
                                    "Employee": "Margaret Peacock",
                                    "Title": "Vice President, Sales",
                                    "Manager": "Andrew Fuller"
                                },
                                {
                                    "EmployeeID": "5",
                                    "Employee": "Steven Buchanan",
                                    "Title": "Vice President, Sales",
                                    "Manager": "Andrew Fuller"
                                },
                                {
                                    "EmployeeID": "6",
                                    "Employee": "Michael Suyama",
                                    "Title": "Sales Manager",
                                    "Manager": "Steven Buchanan"
                                },
                                {
                                    "EmployeeID": "7",
                                    "Employee": "Robert King",
                                    "Title": "Sales Manager",
                                    "Manager": "Steven Buchanan"
                                },
                                {
                                    "EmployeeID": "8",
                                    "Employee": "Laura Callahan",
                                    "Title": "Vice President, Sales",
                                    "Manager": "Andrew Fuller"
                                },
                                {
                                    "EmployeeID": "9",
                                    "Employee": "Anne Dodsworth",
                                    "Title": "Sales Manager",
                                    "Manager": "Steven Buchanan"
                                }
                            ]
                        },
                        "text/html": [
                            "<table>",
                            "<tr><th>EmployeeID</th><th>Employee</th><th>Title</th><th>Manager</th><th>Title</th></tr>",
                            "<tr><td>1</td><td>Nancy Davolio</td><td>Sales Representative</td><td>Andrew Fuller</td><td>Vice President, Sales</td></tr>",
                            "<tr><td>2</td><td>Andrew Fuller</td><td>Vice President, Sales</td><td>BOD</td><td>Board of Directors</td></tr>",
                            "<tr><td>3</td><td>Janet Leverling</td><td>Sales Representative</td><td>Andrew Fuller</td><td>Vice President, Sales</td></tr>",
                            "<tr><td>4</td><td>Margaret Peacock</td><td>Sales Representative</td><td>Andrew Fuller</td><td>Vice President, Sales</td></tr>",
                            "<tr><td>5</td><td>Steven Buchanan</td><td>Sales Manager</td><td>Andrew Fuller</td><td>Vice President, Sales</td></tr>",
                            "<tr><td>6</td><td>Michael Suyama</td><td>Sales Representative</td><td>Steven Buchanan</td><td>Sales Manager</td></tr>",
                            "<tr><td>7</td><td>Robert King</td><td>Sales Representative</td><td>Steven Buchanan</td><td>Sales Manager</td></tr>",
                            "<tr><td>8</td><td>Laura Callahan</td><td>Inside Sales Coordinator</td><td>Andrew Fuller</td><td>Vice President, Sales</td></tr>",
                            "<tr><td>9</td><td>Anne Dodsworth</td><td>Sales Representative</td><td>Steven Buchanan</td><td>Sales Manager</td></tr>",
                            "</table>"
                        ]
                    }
                }
            ],
            "execution_count": 1
        }
    ]
}