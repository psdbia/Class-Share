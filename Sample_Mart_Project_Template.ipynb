{
    "metadata": {
        "kernelspec": {
            "name": "SQL",
            "display_name": "SQL",
            "language": "sql"
        },
        "language_info": {
            "name": "sql",
            "version": ""
        }
    },
    "nbformat_minor": 2,
    "nbformat": 4,
    "cells": [
        {
            "cell_type": "markdown",
            "source": [
                "# Simple Datamart Analysis\r\n",
                "\r\n",
                "... About two or three paragraphs explaining my project...\r\n",
                "\r\n",
                "\r\n",
                "## Data Source(s)\r\n",
                "\r\n",
                "... Provide information about the source of the data for your mart and links to any supporting information\r\n",
                "\r\n",
                "# Steps to  Simple Mart Creation\r\n",
                "\r\n",
                "... the following is performed in T-SQL against a SQL Server instance. MS SQL Server 2022 was used for this project. ... any other information here.. \r\n",
                "\r\n",
                "## Schema Creation:\r\n",
                "    - stage\r\n",
                "    - fact\r\n",
                "    - dim\r\n",
                "    - dev\r\n",
                "\r\n",
                "\r\n",
                "```\r\n",
                "/*********************************************************/\r\n",
                "/******************    Schema DDL       ******************/\r\n",
                "/*********************************************************/\r\n",
                "\r\n",
                "IF NOT EXISTS (SELECT * FROM sys.schemas WHERE name = 'dim' ) \r\n",
                "BEGIN\r\n",
                "\tEXEC sp_executesql N'CREATE SCHEMA dim AUTHORIZATION dbo;'\r\n",
                "END\r\n",
                ";\r\n",
                "GO\r\n",
                "\r\n",
                "IF NOT EXISTS (SELECT * FROM sys.schemas WHERE name = 'stg' ) \r\n",
                "BEGIN\r\n",
                "\tEXEC sp_executesql N'CREATE SCHEMA stg AUTHORIZATION dbo;'\r\n",
                "END\r\n",
                ";\r\n",
                "GO\r\n",
                "\r\n",
                "IF NOT EXISTS (SELECT * FROM sys.schemas WHERE name = 'f' ) \r\n",
                "BEGIN\r\n",
                "\tEXEC sp_executesql N'CREATE SCHEMA f AUTHORIZATION dbo;'\r\n",
                "END\r\n",
                ";\r\n",
                "GO\r\n",
                "```\r\n",
                "\r\n",
                ""
            ],
            "metadata": {
                "azdata_cell_guid": "029a8765-0fe3-4800-b8b1-ac26f3f0086b"
            },
            "attachments": {}
        },
        {
            "cell_type": "code",
            "source": [
                "/*********************************************************/\r\n",
                "/******************    Schema DDL       ******************/\r\n",
                "/*********************************************************/\r\n",
                "\r\n",
                "IF NOT EXISTS (SELECT * FROM sys.schemas WHERE name = 'dim' ) \r\n",
                "BEGIN\r\n",
                "    EXEC sp_executesql N'CREATE SCHEMA dim AUTHORIZATION dbo;'\r\n",
                "END\r\n",
                ";\r\n",
                "GO\r\n",
                "\r\n",
                "IF NOT EXISTS (SELECT * FROM sys.schemas WHERE name = 'stg' ) \r\n",
                "BEGIN\r\n",
                "    EXEC sp_executesql N'CREATE SCHEMA stg AUTHORIZATION dbo;'\r\n",
                "END\r\n",
                ";\r\n",
                "GO\r\n",
                "\r\n",
                "IF NOT EXISTS (SELECT * FROM sys.schemas WHERE name = 'f' ) \r\n",
                "BEGIN\r\n",
                "    EXEC sp_executesql N'CREATE SCHEMA f AUTHORIZATION dbo;'\r\n",
                "END\r\n",
                ";\r\n",
                "GO"
            ],
            "metadata": {
                "azdata_cell_guid": "5f4a634f-a6e9-4552-9da2-be1a6ba75fb3",
                "language": "sql"
            },
            "outputs": [],
            "execution_count": null
        },
        {
            "cell_type": "markdown",
            "source": [
                "## Steps to Dimension Creation</span>\n",
                "\n",
                "\\- Tables Creation:\n",
                "\n",
                "    - dim.Employees\n",
                "\n",
                "    - dim.Time\n",
                "\n",
                "    - dim.t3\n",
                "\n",
                "    - dim.t4\n",
                "\n",
                "  \n",
                "\n",
                "\\-- continue with sections and explanation for fact table(s)"
            ],
            "metadata": {
                "language": "sql",
                "azdata_cell_guid": "592aba20-3f87-457a-9548-37f3ee62f18b"
            },
            "attachments": {}
        }
    ]
}