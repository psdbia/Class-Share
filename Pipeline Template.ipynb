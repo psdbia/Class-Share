{
 "cells": [
  {
   "cell_type": "markdown",
   "id": "7415db53-9c77-4367-a2d1-759d796567db",
   "metadata": {},
   "source": [
    "# Import necessary libraries"
   ]
  },
  {
   "cell_type": "code",
   "execution_count": null,
   "id": "e39e5843-dacf-4b19-b752-b307e3f5653c",
   "metadata": {},
   "outputs": [],
   "source": [
    "import pandas as pd\n",
    "import numpy as np\n",
    "\n",
    "from sklearn.model_selection import train_test_split\n",
    "from sklearn.pipeline import Pipeline\n",
    "from sklearn.preprocessing import StandardScaler, OneHotEncoder\n",
    "from sklearn.compose import ColumnTransformer  # added for OneHotEncoder in the pipeline\n",
    "from sklearn.compose import make_column_selector # added to further automate the OneHotEncoder functionality\n",
    "from sklearn.linear_model import LogisticRegression\n",
    "\n",
    "from sklearn.metrics import classification_report\n",
    "# from sklearn.metrics import accuracy_score, precision_score, recall_score, f1_score, confusion_matrix, roc_auc_score"
   ]
  },
  {
   "cell_type": "markdown",
   "id": "01380e2f-1d84-4dc9-be5e-205f78e220c1",
   "metadata": {},
   "source": [
    "# Load the dataset"
   ]
  },
  {
   "cell_type": "code",
   "execution_count": null,
   "id": "72dc8934-9886-46fb-ac95-da64f3aeab1b",
   "metadata": {},
   "outputs": [],
   "source": [
    "df = pd.read_csv('./data/penguins_clean.csv')\n",
    "df.head(3)"
   ]
  },
  {
   "cell_type": "markdown",
   "id": "f1c17785-f2cd-407f-8d25-d85df91ba27e",
   "metadata": {},
   "source": [
    "# Perform EDA"
   ]
  },
  {
   "cell_type": "code",
   "execution_count": null,
   "id": "18b24851-a73b-4bab-a62f-a687b316b5ce",
   "metadata": {},
   "outputs": [],
   "source": [
    "# no EDA to perform in this model as the focus is just on a simple pipeline and how it works..."
   ]
  },
  {
   "cell_type": "markdown",
   "id": "7c982492-94df-4c58-a915-118a07a80ee9",
   "metadata": {},
   "source": [
    "# Prepare the data for modeling\n"
   ]
  },
  {
   "cell_type": "code",
   "execution_count": null,
   "id": "24aa8c57-9499-4894-8e08-199324ca59e2",
   "metadata": {},
   "outputs": [],
   "source": [
    "X = df.drop(columns=['species'])\n",
    "y = df['species']"
   ]
  },
  {
   "cell_type": "code",
   "execution_count": null,
   "id": "f23a5934-7f19-4446-9aa7-1e71c0f7ac6b",
   "metadata": {},
   "outputs": [],
   "source": [
    "X.head(3)"
   ]
  },
  {
   "cell_type": "markdown",
   "id": "0128ec56-5d68-42fa-84f2-0a821a231e61",
   "metadata": {},
   "source": [
    "# Split the data into train and test sets"
   ]
  },
  {
   "cell_type": "code",
   "execution_count": null,
   "id": "62982857-333f-41b9-9977-2be85ef3cc08",
   "metadata": {},
   "outputs": [],
   "source": [
    "X_train, X_test, y_train, y_test = train_test_split(X, y, test_size=0.3, random_state=42)"
   ]
  },
  {
   "cell_type": "markdown",
   "id": "77ed359b-a87a-4a13-9e63-97a9eef3812e",
   "metadata": {},
   "source": [
    "# Define column transformer (i.e. One-Hot encoding)"
   ]
  },
  {
   "cell_type": "code",
   "execution_count": null,
   "id": "bc21b927-6fa3-4271-a17f-f819762618e3",
   "metadata": {},
   "outputs": [],
   "source": [
    "# Define the column transformer\n",
    "preprocessor = ColumnTransformer(\n",
    "    transformers=[\n",
    "        ('num', StandardScaler(), ['bill_length_mm', 'bill_depth_mm', 'flipper_length_mm', 'body_mass_g']),\n",
    "        ('cat', OneHotEncoder(drop='first'), ['island', 'sex'])\n",
    "    ])"
   ]
  },
  {
   "cell_type": "raw",
   "id": "826d81c2-35ee-47b1-8b2b-0d90c24bab24",
   "metadata": {},
   "source": [
    "# Define the column transformer\n",
    "preprocessor = ColumnTransformer(\n",
    "    transformers=[\n",
    "        ('num', StandardScaler(), make_column_selector(dtype_include=['int64', 'float64'])),\n",
    "        ('cat', OneHotEncoder(drop='first'), make_column_selector(dtype_include=['object', 'category']))\n",
    "    ])"
   ]
  },
  {
   "cell_type": "markdown",
   "id": "4e137221-9e8e-428d-8314-9ef3fccbe95e",
   "metadata": {},
   "source": [
    "# Create the pipeline using the preprocessor the chosen classification model"
   ]
  },
  {
   "cell_type": "code",
   "execution_count": null,
   "id": "db5d35ca-1e1c-4db0-b3d6-7d750c72bcd5",
   "metadata": {},
   "outputs": [],
   "source": [
    "# Create a pipeline standard scaler, and logistic regression\n",
    "# Create a pipeline with the preprocessor and logistic regression\n",
    "pipeline = Pipeline([\n",
    "    ('preprocessor', preprocessor),\n",
    "    ('logreg', LogisticRegression(max_iter=200))\n",
    "])\n"
   ]
  },
  {
   "cell_type": "markdown",
   "id": "a1b61451-4aa3-4e69-872b-c92cb1d8c507",
   "metadata": {},
   "source": [
    "# Train the model"
   ]
  },
  {
   "cell_type": "code",
   "execution_count": null,
   "id": "f4de718c-89c4-427c-8d43-efcccb62a22c",
   "metadata": {},
   "outputs": [],
   "source": [
    "# Train the model\n",
    "pipeline.fit(X_train, y_train)\n",
    "\n",
    "# Make predictions\n",
    "y_pred = pipeline.predict(X_test)\n",
    "\n",
    "# Print classification report\n",
    "print(classification_report(y_test, y_pred))"
   ]
  },
  {
   "cell_type": "code",
   "execution_count": null,
   "id": "706213ad-24e5-48c3-9379-748912e1b62c",
   "metadata": {},
   "outputs": [],
   "source": []
  }
 ],
 "metadata": {
  "kernelspec": {
   "display_name": "Python 3 (ipykernel)",
   "language": "python",
   "name": "python3"
  },
  "language_info": {
   "codemirror_mode": {
    "name": "ipython",
    "version": 3
   },
   "file_extension": ".py",
   "mimetype": "text/x-python",
   "name": "python",
   "nbconvert_exporter": "python",
   "pygments_lexer": "ipython3",
   "version": "3.11.11"
  }
 },
 "nbformat": 4,
 "nbformat_minor": 5
}
