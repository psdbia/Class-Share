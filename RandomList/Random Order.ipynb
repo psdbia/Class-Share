{
 "cells": [
  {
   "cell_type": "code",
   "execution_count": 1,
   "id": "9a1d6775-f39a-4b88-bc2a-9dd4eb4cf568",
   "metadata": {},
   "outputs": [],
   "source": [
    "import numpy as np\n",
    "import pandas as pd\n",
    "import time\n",
    "import os\n",
    "from IPython.display import clear_output\n",
    "\n",
    "# Clear out any data from prior runs\n",
    "file_path = 'presentation_order.csv'\n",
    "# Check if the file exists before attempting to delete it\n",
    "if os.path.exists(file_path):\n",
    "    os.remove(file_path)\n",
    "\n",
    "\n",
    "# Load the CSV file into a DataFrame\n",
    "df = pd.read_csv('./studentlist.csv')\n",
    "\n",
    "df_student = df['Student']\n",
    "df_order = df['Order']\n",
    "\n",
    "# Function to create a random series from the input series\n",
    "def create_random_series(input_series):\n",
    "    return input_series.sample(frac=1).reset_index(drop=True)\n",
    "\n",
    "# Create a random series from the input series -- all the work is DONE, not save it and print it\n",
    "random_series = create_random_series(df['Student'])\n",
    "df_input = pd.DataFrame({'Order': df_order,'Student': random_series})\n",
    "df_input.to_csv('presentation_order.csv',index='False')\n",
    "\n",
    "\n",
    "# Function to print each row with a delay\n",
    "def print_rows_with_delay(df, delay):\n",
    "    for index, row in df.iterrows():\n",
    "        # Clear the cell output\n",
    "        clear_output(wait=True)\n",
    "        print(row)\n",
    "        time.sleep(delay)"
   ]
  },
  {
   "cell_type": "code",
   "execution_count": 2,
   "id": "8ce9e791-b097-494a-9018-2dc49de4739d",
   "metadata": {},
   "outputs": [
    {
     "name": "stdout",
     "output_type": "stream",
     "text": [
      "Order      10th\n",
      "Student    John\n",
      "Name: 9, dtype: object\n"
     ]
    }
   ],
   "source": [
    "# Call the function with the DataFrame and an x-second delay\n",
    "print_rows_with_delay(df_input, delay=4)"
   ]
  },
  {
   "cell_type": "code",
   "execution_count": null,
   "id": "59f7aef3-e209-4744-a3bc-0c2587481110",
   "metadata": {},
   "outputs": [],
   "source": []
  }
 ],
 "metadata": {
  "kernelspec": {
   "display_name": "Python 3 (ipykernel)",
   "language": "python",
   "name": "python3"
  },
  "language_info": {
   "codemirror_mode": {
    "name": "ipython",
    "version": 3
   },
   "file_extension": ".py",
   "mimetype": "text/x-python",
   "name": "python",
   "nbconvert_exporter": "python",
   "pygments_lexer": "ipython3",
   "version": "3.11.11"
  }
 },
 "nbformat": 4,
 "nbformat_minor": 5
}
