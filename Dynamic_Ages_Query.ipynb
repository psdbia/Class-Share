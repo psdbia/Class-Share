{
    "metadata": {
        "kernelspec": {
            "name": "SQL",
            "display_name": "SQL",
            "language": "sql"
        },
        "language_info": {
            "name": "sql",
            "version": ""
        }
    },
    "nbformat_minor": 2,
    "nbformat": 4,
    "cells": [
        {
            "cell_type": "markdown",
            "source": [
                "All emojis in this project are courtesy of [EmojiCopy.com](https://emojicopy.com/)."
            ],
            "metadata": {
                "azdata_cell_guid": "10ffd013-6289-4332-bd2b-48d112db97d1"
            },
            "attachments": {}
        },
        {
            "cell_type": "markdown",
            "source": [
                "# 🚀 Tip 1 - Age as of Today Functionality\n",
                "\n",
                "The following query uses the GETDATE() function. It can be combined with other date-time fields for days, years, or months calculations.  \n",
                "This code uses this functionality in the Northwind\\_2023 database.\n",
                "\n",
                "```\n",
                "USE Northwind_2023;\n",
                "GO\n",
                "\n",
                "SELECT CONCAT(emp.FirstName, ' ', emp.LastName) as 'Employee'\n",
                "      ,emp.Title\n",
                "      ,DATEDIFF(yy, emp.BirthDate, CAST(GETDATE() as DATE)) as 'Age'\n",
                "FROM dbo.Employees emp\n",
                ";\n",
                "\n",
                "```"
            ],
            "metadata": {
                "azdata_cell_guid": "21c8fde1-6218-44f4-a818-ae5b091abe43"
            },
            "attachments": {}
        },
        {
            "cell_type": "code",
            "source": [
                "-- What is the title and age of each of the employees as of today?\r\n",
                "USE Northwind_2023;\r\n",
                "GO\r\n",
                "\r\n",
                "SELECT TOP 5 CONCAT(emp.FirstName, ' ', emp.LastName) as 'Employee'\r\n",
                "\t  ,emp.Title\r\n",
                "\t  ,DATEDIFF(yy, emp.BirthDate, CAST(GETDATE() as DATE)) as 'Age'\r\n",
                "FROM dbo.Employees emp\r\n",
                ";"
            ],
            "metadata": {
                "azdata_cell_guid": "5953f9c9-e106-4aaa-86e0-549cd9bacb73",
                "language": "sql"
            },
            "outputs": [
                {
                    "output_type": "display_data",
                    "data": {
                        "text/html": "Commands completed successfully."
                    },
                    "metadata": {}
                },
                {
                    "output_type": "display_data",
                    "data": {
                        "text/html": "(5 rows affected)"
                    },
                    "metadata": {}
                },
                {
                    "output_type": "display_data",
                    "data": {
                        "text/html": "Total execution time: 00:00:00.033"
                    },
                    "metadata": {}
                },
                {
                    "output_type": "execute_result",
                    "execution_count": 1,
                    "data": {
                        "application/vnd.dataresource+json": {
                            "schema": {
                                "fields": [
                                    {
                                        "name": "Employee"
                                    },
                                    {
                                        "name": "Title"
                                    },
                                    {
                                        "name": "Age"
                                    }
                                ]
                            },
                            "data": [
                                {
                                    "Employee": "Nancy Davolio",
                                    "Title": "Sales Representative",
                                    "Age": "51"
                                },
                                {
                                    "Employee": "Andrew Fuller",
                                    "Title": "Vice President, Sales",
                                    "Age": "47"
                                },
                                {
                                    "Employee": "Janet Leverling",
                                    "Title": "Sales Representative",
                                    "Age": "36"
                                },
                                {
                                    "Employee": "Margaret Peacock",
                                    "Title": "Sales Representative",
                                    "Age": "62"
                                },
                                {
                                    "Employee": "Steven Buchanan",
                                    "Title": "Sales Manager",
                                    "Age": "44"
                                }
                            ]
                        },
                        "text/html": "<table><tr><th>Employee</th><th>Title</th><th>Age</th></tr><tr><td>Nancy Davolio</td><td>Sales Representative</td><td>51</td></tr><tr><td>Andrew Fuller</td><td>Vice President, Sales</td><td>47</td></tr><tr><td>Janet Leverling</td><td>Sales Representative</td><td>36</td></tr><tr><td>Margaret Peacock</td><td>Sales Representative</td><td>62</td></tr><tr><td>Steven Buchanan</td><td>Sales Manager</td><td>44</td></tr></table>"
                    },
                    "metadata": {}
                }
            ],
            "execution_count": 1
        },
        {
            "cell_type": "markdown",
            "source": [
                "# Tip 2 - Inner Joins\n",
                "\n",
                "Explain some functionality, then in the box below, create a sample query!\n",
                "\n",
                "*The following query will just return 5 rows.*"
            ],
            "metadata": {
                "language": "sql",
                "azdata_cell_guid": "9e7db0f4-eef7-4493-a708-f53dacf6c4ed"
            },
            "attachments": {}
        },
        {
            "cell_type": "code",
            "source": [
                "SELECT TOP 5 prod.ProductID\r\n",
                "      ,prod.ProductName\r\n",
                "      ,cat.CategoryName\r\n",
                "FROM Products prod\r\n",
                "\tINNER JOIN Categories cat\r\n",
                "    ON prod.CategoryID = cat.CategoryID\r\n",
                ";"
            ],
            "metadata": {
                "language": "sql",
                "azdata_cell_guid": "374be9e3-7d4d-4dcd-b380-b9fbbd1ecedc"
            },
            "outputs": [
                {
                    "output_type": "display_data",
                    "data": {
                        "text/html": "(5 rows affected)"
                    },
                    "metadata": {}
                },
                {
                    "output_type": "display_data",
                    "data": {
                        "text/html": "Total execution time: 00:00:00.035"
                    },
                    "metadata": {}
                },
                {
                    "output_type": "execute_result",
                    "execution_count": 1,
                    "data": {
                        "application/vnd.dataresource+json": {
                            "schema": {
                                "fields": [
                                    {
                                        "name": "ProductID"
                                    },
                                    {
                                        "name": "ProductName"
                                    },
                                    {
                                        "name": "CategoryName"
                                    }
                                ]
                            },
                            "data": [
                                {
                                    "ProductID": "1",
                                    "ProductName": "Chai",
                                    "CategoryName": "Beverages"
                                },
                                {
                                    "ProductID": "2",
                                    "ProductName": "Chang",
                                    "CategoryName": "Beverages"
                                },
                                {
                                    "ProductID": "3",
                                    "ProductName": "Aniseed Syrup",
                                    "CategoryName": "Condiments"
                                },
                                {
                                    "ProductID": "4",
                                    "ProductName": "Chef Anton's Cajun Seasoning",
                                    "CategoryName": "Condiments"
                                },
                                {
                                    "ProductID": "5",
                                    "ProductName": "Chef Anton's Gumbo Mix",
                                    "CategoryName": "Condiments"
                                }
                            ]
                        },
                        "text/html": "<table><tr><th>ProductID</th><th>ProductName</th><th>CategoryName</th></tr><tr><td>1</td><td>Chai</td><td>Beverages</td></tr><tr><td>2</td><td>Chang</td><td>Beverages</td></tr><tr><td>3</td><td>Aniseed Syrup</td><td>Condiments</td></tr><tr><td>4</td><td>Chef Anton&#39;s Cajun Seasoning</td><td>Condiments</td></tr><tr><td>5</td><td>Chef Anton&#39;s Gumbo Mix</td><td>Condiments</td></tr></table>"
                    },
                    "metadata": {}
                }
            ],
            "execution_count": 1
        },
        {
            "cell_type": "markdown",
            "source": [
                "# Tip 3 - Schema Structure\n",
                "\n",
                "Insert explanation here..."
            ],
            "metadata": {
                "language": "sql",
                "azdata_cell_guid": "deadd48a-ea9d-499c-b276-95fdd4e29a24"
            },
            "attachments": {}
        },
        {
            "cell_type": "code",
            "source": [
                "SELECT TOP 5 tab.object_id as 'TableID'\r\n",
                "\t  ,tab.name as 'TableName'\r\n",
                "\t  ,aco.column_id\r\n",
                "\t  ,aco.name as 'ColumnName'\r\n",
                "\t  ,tab.schema_id\r\n",
                "\t  ,sch.name as 'Schema'\r\n",
                "      -- Show hierachy from the schema to column\r\n",
                "\t  ,concat(sch.name, '.', tab.name) as 'fqnTable'\r\n",
                "\t  ,concat(sch.name, '.', tab.name, '.', aco.name) as 'fqnColumn'\r\n",
                "FROM sys.tables tab\r\n",
                "\tINNER JOIN sys.all_columns aco\r\n",
                "\tON tab.object_id = aco.object_id\r\n",
                "\tINNER JOIN sys.schemas sch\r\n",
                "\tON tab.schema_id = sch.schema_id\r\n",
                "ORDER BY TableName, column_id\r\n",
                ";"
            ],
            "metadata": {
                "language": "sql",
                "azdata_cell_guid": "441b7e65-635b-4e78-81a8-86e7a4c80096"
            },
            "outputs": [
                {
                    "output_type": "display_data",
                    "data": {
                        "text/html": "(5 rows affected)"
                    },
                    "metadata": {}
                },
                {
                    "output_type": "display_data",
                    "data": {
                        "text/html": "Total execution time: 00:00:00.054"
                    },
                    "metadata": {}
                },
                {
                    "output_type": "execute_result",
                    "execution_count": 1,
                    "data": {
                        "application/vnd.dataresource+json": {
                            "schema": {
                                "fields": [
                                    {
                                        "name": "TableID"
                                    },
                                    {
                                        "name": "TableName"
                                    },
                                    {
                                        "name": "column_id"
                                    },
                                    {
                                        "name": "ColumnName"
                                    },
                                    {
                                        "name": "schema_id"
                                    },
                                    {
                                        "name": "Schema"
                                    },
                                    {
                                        "name": "fqnTable"
                                    },
                                    {
                                        "name": "fqnColumn"
                                    }
                                ]
                            },
                            "data": [
                                {
                                    "TableID": "901578250",
                                    "TableName": "Categories",
                                    "column_id": "1",
                                    "ColumnName": "CategoryID",
                                    "schema_id": "1",
                                    "Schema": "dbo",
                                    "fqnTable": "dbo.Categories",
                                    "fqnColumn": "dbo.Categories.CategoryID"
                                },
                                {
                                    "TableID": "901578250",
                                    "TableName": "Categories",
                                    "column_id": "2",
                                    "ColumnName": "CategoryName",
                                    "schema_id": "1",
                                    "Schema": "dbo",
                                    "fqnTable": "dbo.Categories",
                                    "fqnColumn": "dbo.Categories.CategoryName"
                                },
                                {
                                    "TableID": "901578250",
                                    "TableName": "Categories",
                                    "column_id": "3",
                                    "ColumnName": "Description",
                                    "schema_id": "1",
                                    "Schema": "dbo",
                                    "fqnTable": "dbo.Categories",
                                    "fqnColumn": "dbo.Categories.Description"
                                },
                                {
                                    "TableID": "901578250",
                                    "TableName": "Categories",
                                    "column_id": "4",
                                    "ColumnName": "Picture",
                                    "schema_id": "1",
                                    "Schema": "dbo",
                                    "fqnTable": "dbo.Categories",
                                    "fqnColumn": "dbo.Categories.Picture"
                                },
                                {
                                    "TableID": "933578364",
                                    "TableName": "Customers",
                                    "column_id": "1",
                                    "ColumnName": "LookupID",
                                    "schema_id": "1",
                                    "Schema": "dbo",
                                    "fqnTable": "dbo.Customers",
                                    "fqnColumn": "dbo.Customers.LookupID"
                                }
                            ]
                        },
                        "text/html": "<table><tr><th>TableID</th><th>TableName</th><th>column_id</th><th>ColumnName</th><th>schema_id</th><th>Schema</th><th>fqnTable</th><th>fqnColumn</th></tr><tr><td>901578250</td><td>Categories</td><td>1</td><td>CategoryID</td><td>1</td><td>dbo</td><td>dbo.Categories</td><td>dbo.Categories.CategoryID</td></tr><tr><td>901578250</td><td>Categories</td><td>2</td><td>CategoryName</td><td>1</td><td>dbo</td><td>dbo.Categories</td><td>dbo.Categories.CategoryName</td></tr><tr><td>901578250</td><td>Categories</td><td>3</td><td>Description</td><td>1</td><td>dbo</td><td>dbo.Categories</td><td>dbo.Categories.Description</td></tr><tr><td>901578250</td><td>Categories</td><td>4</td><td>Picture</td><td>1</td><td>dbo</td><td>dbo.Categories</td><td>dbo.Categories.Picture</td></tr><tr><td>933578364</td><td>Customers</td><td>1</td><td>LookupID</td><td>1</td><td>dbo</td><td>dbo.Customers</td><td>dbo.Customers.LookupID</td></tr></table>"
                    },
                    "metadata": {}
                }
            ],
            "execution_count": 1
        }
    ]
}