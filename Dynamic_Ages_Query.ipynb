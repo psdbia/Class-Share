{
    "metadata": {
        "kernelspec": {
            "name": "SQL",
            "display_name": "SQL",
            "language": "sql"
        },
        "language_info": {
            "name": "sql",
            "version": ""
        }
    },
    "nbformat_minor": 2,
    "nbformat": 4,
    "cells": [
        {
            "cell_type": "markdown",
            "source": [
                "# Age as of Today Functionality\r\n",
                "\r\n",
                "The following query uses the GETDATE() function create a dynamic age field."
            ],
            "metadata": {
                "azdata_cell_guid": "21c8fde1-6218-44f4-a818-ae5b091abe43"
            },
            "attachments": {}
        },
        {
            "cell_type": "code",
            "source": [
                "-- What is the title and age of each of the employees as of today?\r\n",
                "USE Northwind_2023;\r\n",
                "GO\r\n",
                "\r\n",
                "SELECT CONCAT(emp.FirstName, ' ', emp.LastName) as 'Employee'\r\n",
                "\t  ,emp.Title\r\n",
                "\t  ,DATEDIFF(yy, emp.BirthDate, CAST(GETDATE() as DATE)) as 'Age'\r\n",
                "FROM dbo.Employees emp\r\n",
                ";"
            ],
            "metadata": {
                "azdata_cell_guid": "5953f9c9-e106-4aaa-86e0-549cd9bacb73",
                "language": "sql"
            },
            "outputs": [
                {
                    "output_type": "display_data",
                    "data": {
                        "text/html": "Commands completed successfully."
                    },
                    "metadata": {}
                },
                {
                    "output_type": "display_data",
                    "data": {
                        "text/html": "(9 rows affected)"
                    },
                    "metadata": {}
                },
                {
                    "output_type": "display_data",
                    "data": {
                        "text/html": "Total execution time: 00:00:00.027"
                    },
                    "metadata": {}
                },
                {
                    "output_type": "execute_result",
                    "metadata": {},
                    "execution_count": 1,
                    "data": {
                        "application/vnd.dataresource+json": {
                            "schema": {
                                "fields": [
                                    {
                                        "name": "Employee"
                                    },
                                    {
                                        "name": "Title"
                                    },
                                    {
                                        "name": "Age"
                                    }
                                ]
                            },
                            "data": [
                                {
                                    "Employee": "Nancy Davolio",
                                    "Title": "Sales Representative",
                                    "Age": "51"
                                },
                                {
                                    "Employee": "Andrew Fuller",
                                    "Title": "Vice President, Sales",
                                    "Age": "47"
                                },
                                {
                                    "Employee": "Janet Leverling",
                                    "Title": "Sales Representative",
                                    "Age": "36"
                                },
                                {
                                    "Employee": "Margaret Peacock",
                                    "Title": "Sales Representative",
                                    "Age": "62"
                                },
                                {
                                    "Employee": "Steven Buchanan",
                                    "Title": "Sales Manager",
                                    "Age": "44"
                                },
                                {
                                    "Employee": "Michael Suyama",
                                    "Title": "Sales Representative",
                                    "Age": "36"
                                },
                                {
                                    "Employee": "Robert King",
                                    "Title": "Sales Representative",
                                    "Age": "39"
                                },
                                {
                                    "Employee": "Laura Callahan",
                                    "Title": "Inside Sales Coordinator",
                                    "Age": "41"
                                },
                                {
                                    "Employee": "Anne Dodsworth",
                                    "Title": "Sales Representative",
                                    "Age": "33"
                                }
                            ]
                        },
                        "text/html": [
                            "<table>",
                            "<tr><th>Employee</th><th>Title</th><th>Age</th></tr>",
                            "<tr><td>Nancy Davolio</td><td>Sales Representative</td><td>51</td></tr>",
                            "<tr><td>Andrew Fuller</td><td>Vice President, Sales</td><td>47</td></tr>",
                            "<tr><td>Janet Leverling</td><td>Sales Representative</td><td>36</td></tr>",
                            "<tr><td>Margaret Peacock</td><td>Sales Representative</td><td>62</td></tr>",
                            "<tr><td>Steven Buchanan</td><td>Sales Manager</td><td>44</td></tr>",
                            "<tr><td>Michael Suyama</td><td>Sales Representative</td><td>36</td></tr>",
                            "<tr><td>Robert King</td><td>Sales Representative</td><td>39</td></tr>",
                            "<tr><td>Laura Callahan</td><td>Inside Sales Coordinator</td><td>41</td></tr>",
                            "<tr><td>Anne Dodsworth</td><td>Sales Representative</td><td>33</td></tr>",
                            "</table>"
                        ]
                    }
                }
            ],
            "execution_count": 1
        }
    ]
}