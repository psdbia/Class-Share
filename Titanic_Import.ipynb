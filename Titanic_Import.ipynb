{
 "cells": [
  {
   "cell_type": "markdown",
   "id": "f56f424c-6ad0-40bd-8013-a081521582b0",
   "metadata": {},
   "source": [
    "## DF to MS SQL\n"
   ]
  },
  {
   "cell_type": "code",
   "execution_count": 1,
   "id": "76920480-d437-439c-b840-1a04d5d38d04",
   "metadata": {},
   "outputs": [],
   "source": [
    "# uncomment these and run this if not loaded...\n",
    "# !pip3 install pandas\n",
    "# !pip install pymssql"
   ]
  },
  {
   "cell_type": "code",
   "execution_count": 2,
   "id": "d5a98ed0-f46e-41ce-ae8a-510a7ecd0339",
   "metadata": {},
   "outputs": [
    {
     "name": "stdout",
     "output_type": "stream",
     "text": [
      " Volume in drive C is Windows\n",
      " Volume Serial Number is C28A-6242\n",
      "\n",
      " Directory of C:\\Users\\W0304403\\GitHub\\Class-Share\n",
      "\n",
      "2024-11-21  01:05 PM    <DIR>          .\n",
      "2024-11-21  01:05 PM    <DIR>          ..\n",
      "2024-09-21  11:58 AM                66 .gitattributes\n",
      "2024-11-20  11:47 AM    <DIR>          .ipynb_checkpoints\n",
      "2024-09-22  09:47 AM               625 CalendarYear_M_starter.txt\n",
      "2024-10-17  11:09 AM             8,615 CTE.ipynb\n",
      "2024-11-19  11:11 AM    <DIR>          data\n",
      "2024-09-27  12:32 PM               267 NW_Emp_Ages.sql\n",
      "2024-09-23  04:22 PM               103 README.md\n",
      "2024-11-01  09:55 AM             1,150 SQLCodeTest.ipynb\n",
      "2024-11-21  01:05 PM            14,766 Titanic_Import.ipynb\n",
      "2024-11-01  09:47 AM            23,765 TwentyFiveTips.ipynb\n",
      "2024-10-21  08:44 AM             5,898 Vehicles_Switch_True.ipynb\n",
      "               9 File(s)         55,255 bytes\n",
      "               4 Dir(s)  897,101,369,344 bytes free\n"
     ]
    }
   ],
   "source": [
    "ls"
   ]
  },
  {
   "cell_type": "code",
   "execution_count": 3,
   "id": "ef0517b9-1d15-4bac-923b-33a6f0441dfe",
   "metadata": {},
   "outputs": [
    {
     "data": {
      "text/html": [
       "<div>\n",
       "<style scoped>\n",
       "    .dataframe tbody tr th:only-of-type {\n",
       "        vertical-align: middle;\n",
       "    }\n",
       "\n",
       "    .dataframe tbody tr th {\n",
       "        vertical-align: top;\n",
       "    }\n",
       "\n",
       "    .dataframe thead th {\n",
       "        text-align: right;\n",
       "    }\n",
       "</style>\n",
       "<table border=\"1\" class=\"dataframe\">\n",
       "  <thead>\n",
       "    <tr style=\"text-align: right;\">\n",
       "      <th></th>\n",
       "      <th>count</th>\n",
       "      <th>unique</th>\n",
       "      <th>top</th>\n",
       "      <th>freq</th>\n",
       "    </tr>\n",
       "  </thead>\n",
       "  <tbody>\n",
       "    <tr>\n",
       "      <th>LastName</th>\n",
       "      <td>1317</td>\n",
       "      <td>894</td>\n",
       "      <td>Sage</td>\n",
       "      <td>11</td>\n",
       "    </tr>\n",
       "    <tr>\n",
       "      <th>FirstName</th>\n",
       "      <td>1317</td>\n",
       "      <td>1142</td>\n",
       "      <td>Mr John</td>\n",
       "      <td>13</td>\n",
       "    </tr>\n",
       "    <tr>\n",
       "      <th>Title</th>\n",
       "      <td>1317</td>\n",
       "      <td>20</td>\n",
       "      <td>Mr</td>\n",
       "      <td>765</td>\n",
       "    </tr>\n",
       "    <tr>\n",
       "      <th>Gender</th>\n",
       "      <td>1317</td>\n",
       "      <td>2</td>\n",
       "      <td>M</td>\n",
       "      <td>851</td>\n",
       "    </tr>\n",
       "    <tr>\n",
       "      <th>txt.Gender</th>\n",
       "      <td>1317</td>\n",
       "      <td>2</td>\n",
       "      <td>Male</td>\n",
       "      <td>851</td>\n",
       "    </tr>\n",
       "    <tr>\n",
       "      <th>txt.Boarded</th>\n",
       "      <td>1317</td>\n",
       "      <td>4</td>\n",
       "      <td>Southampton</td>\n",
       "      <td>912</td>\n",
       "    </tr>\n",
       "    <tr>\n",
       "      <th>txt.Class</th>\n",
       "      <td>1317</td>\n",
       "      <td>3</td>\n",
       "      <td>3rd</td>\n",
       "      <td>709</td>\n",
       "    </tr>\n",
       "    <tr>\n",
       "      <th>txt.Survive</th>\n",
       "      <td>1317</td>\n",
       "      <td>2</td>\n",
       "      <td>No</td>\n",
       "      <td>833</td>\n",
       "    </tr>\n",
       "  </tbody>\n",
       "</table>\n",
       "</div>"
      ],
      "text/plain": [
       "            count unique          top freq\n",
       "LastName     1317    894         Sage   11\n",
       "FirstName    1317   1142      Mr John   13\n",
       "Title        1317     20           Mr  765\n",
       "Gender       1317      2            M  851\n",
       "txt.Gender   1317      2         Male  851\n",
       "txt.Boarded  1317      4  Southampton  912\n",
       "txt.Class    1317      3          3rd  709\n",
       "txt.Survive  1317      2           No  833"
      ]
     },
     "execution_count": 3,
     "metadata": {},
     "output_type": "execute_result"
    }
   ],
   "source": [
    "import pandas as pd\n",
    "df = pd.read_csv('./data/TitanicFinal_1.csv')\n",
    "df.describe(include='object').T"
   ]
  },
  {
   "cell_type": "code",
   "execution_count": 4,
   "id": "c2b99ce8-3b01-4122-92d3-5eda565abc09",
   "metadata": {},
   "outputs": [
    {
     "data": {
      "text/plain": [
       "Index(['ID', 'LastName', 'FirstName', 'Title', 'f.Gender', 'Gender',\n",
       "       'txt.Gender', 'f.Boarded', 'txt.Boarded', 'f.Class', 'txt.Class',\n",
       "       'int.Yrs', 'f.Survived', 'txt.Survive'],\n",
       "      dtype='object')"
      ]
     },
     "execution_count": 4,
     "metadata": {},
     "output_type": "execute_result"
    }
   ],
   "source": [
    "df.columns"
   ]
  },
  {
   "cell_type": "code",
   "execution_count": 5,
   "id": "daf3d1a2-a340-4320-aca1-201cbdbd32e3",
   "metadata": {},
   "outputs": [
    {
     "data": {
      "text/html": [
       "<div>\n",
       "<style scoped>\n",
       "    .dataframe tbody tr th:only-of-type {\n",
       "        vertical-align: middle;\n",
       "    }\n",
       "\n",
       "    .dataframe tbody tr th {\n",
       "        vertical-align: top;\n",
       "    }\n",
       "\n",
       "    .dataframe thead th {\n",
       "        text-align: right;\n",
       "    }\n",
       "</style>\n",
       "<table border=\"1\" class=\"dataframe\">\n",
       "  <thead>\n",
       "    <tr style=\"text-align: right;\">\n",
       "      <th></th>\n",
       "      <th>ID</th>\n",
       "      <th>LastName</th>\n",
       "      <th>FirstName</th>\n",
       "      <th>Title</th>\n",
       "      <th>f.Gender</th>\n",
       "      <th>Gender</th>\n",
       "      <th>txt.Gender</th>\n",
       "      <th>f.Boarded</th>\n",
       "      <th>txt.Boarded</th>\n",
       "      <th>f.Class</th>\n",
       "      <th>txt.Class</th>\n",
       "      <th>int.Yrs</th>\n",
       "      <th>f.Survived</th>\n",
       "      <th>txt.Survive</th>\n",
       "    </tr>\n",
       "  </thead>\n",
       "  <tbody>\n",
       "    <tr>\n",
       "      <th>0</th>\n",
       "      <td>1</td>\n",
       "      <td>Ab i-Al-Munà</td>\n",
       "      <td>Mr Nas if Qasim</td>\n",
       "      <td>Mr</td>\n",
       "      <td>0</td>\n",
       "      <td>M</td>\n",
       "      <td>Male</td>\n",
       "      <td>2</td>\n",
       "      <td>Cherbourg</td>\n",
       "      <td>3</td>\n",
       "      <td>3rd</td>\n",
       "      <td>26</td>\n",
       "      <td>1</td>\n",
       "      <td>Yes</td>\n",
       "    </tr>\n",
       "    <tr>\n",
       "      <th>1</th>\n",
       "      <td>2</td>\n",
       "      <td>Abbing</td>\n",
       "      <td>Mr Anthony</td>\n",
       "      <td>Mr</td>\n",
       "      <td>0</td>\n",
       "      <td>M</td>\n",
       "      <td>Male</td>\n",
       "      <td>1</td>\n",
       "      <td>Southampton</td>\n",
       "      <td>3</td>\n",
       "      <td>3rd</td>\n",
       "      <td>42</td>\n",
       "      <td>0</td>\n",
       "      <td>No</td>\n",
       "    </tr>\n",
       "    <tr>\n",
       "      <th>2</th>\n",
       "      <td>3</td>\n",
       "      <td>Abbott</td>\n",
       "      <td>Mrs Rhoda Mary “Rosa”</td>\n",
       "      <td>Mrs</td>\n",
       "      <td>1</td>\n",
       "      <td>F</td>\n",
       "      <td>Female</td>\n",
       "      <td>1</td>\n",
       "      <td>Southampton</td>\n",
       "      <td>3</td>\n",
       "      <td>3rd</td>\n",
       "      <td>39</td>\n",
       "      <td>1</td>\n",
       "      <td>Yes</td>\n",
       "    </tr>\n",
       "  </tbody>\n",
       "</table>\n",
       "</div>"
      ],
      "text/plain": [
       "   ID      LastName              FirstName Title  f.Gender Gender txt.Gender  \\\n",
       "0   1  Ab i-Al-Munà        Mr Nas if Qasim    Mr         0      M       Male   \n",
       "1   2        Abbing             Mr Anthony    Mr         0      M       Male   \n",
       "2   3        Abbott  Mrs Rhoda Mary “Rosa”   Mrs         1      F     Female   \n",
       "\n",
       "   f.Boarded  txt.Boarded  f.Class txt.Class  int.Yrs  f.Survived txt.Survive  \n",
       "0          2    Cherbourg        3       3rd       26           1         Yes  \n",
       "1          1  Southampton        3       3rd       42           0          No  \n",
       "2          1  Southampton        3       3rd       39           1         Yes  "
      ]
     },
     "execution_count": 5,
     "metadata": {},
     "output_type": "execute_result"
    }
   ],
   "source": [
    "df.head(3)"
   ]
  },
  {
   "cell_type": "code",
   "execution_count": 6,
   "id": "b8c9a236-12b6-414f-8ffe-3eaa5bffe2ab",
   "metadata": {},
   "outputs": [],
   "source": [
    "df = df[['ID', 'LastName', 'FirstName', 'Title', 'Gender',  'txt.Boarded', 'txt.Class', 'int.Yrs', 'txt.Survive']]  # like select\n",
    "df.columns = ['ID', 'LastName', 'FirstName', 'Title', 'Gender',  'Boarded', 'Class', 'Yrs', 'Survive'] # like as"
   ]
  },
  {
   "cell_type": "code",
   "execution_count": 7,
   "id": "73968726-a4f0-4eab-9e61-a51f64a46146",
   "metadata": {},
   "outputs": [
    {
     "data": {
      "text/html": [
       "<div>\n",
       "<style scoped>\n",
       "    .dataframe tbody tr th:only-of-type {\n",
       "        vertical-align: middle;\n",
       "    }\n",
       "\n",
       "    .dataframe tbody tr th {\n",
       "        vertical-align: top;\n",
       "    }\n",
       "\n",
       "    .dataframe thead th {\n",
       "        text-align: right;\n",
       "    }\n",
       "</style>\n",
       "<table border=\"1\" class=\"dataframe\">\n",
       "  <thead>\n",
       "    <tr style=\"text-align: right;\">\n",
       "      <th></th>\n",
       "      <th>ID</th>\n",
       "      <th>LastName</th>\n",
       "      <th>FirstName</th>\n",
       "      <th>Title</th>\n",
       "      <th>Gender</th>\n",
       "      <th>Boarded</th>\n",
       "      <th>Class</th>\n",
       "      <th>Yrs</th>\n",
       "      <th>Survive</th>\n",
       "    </tr>\n",
       "  </thead>\n",
       "  <tbody>\n",
       "    <tr>\n",
       "      <th>0</th>\n",
       "      <td>1</td>\n",
       "      <td>Ab i-Al-Munà</td>\n",
       "      <td>Mr Nas if Qasim</td>\n",
       "      <td>Mr</td>\n",
       "      <td>M</td>\n",
       "      <td>Cherbourg</td>\n",
       "      <td>3rd</td>\n",
       "      <td>26</td>\n",
       "      <td>Yes</td>\n",
       "    </tr>\n",
       "  </tbody>\n",
       "</table>\n",
       "</div>"
      ],
      "text/plain": [
       "   ID      LastName        FirstName Title Gender    Boarded Class  Yrs  \\\n",
       "0   1  Ab i-Al-Munà  Mr Nas if Qasim    Mr      M  Cherbourg   3rd   26   \n",
       "\n",
       "  Survive  \n",
       "0     Yes  "
      ]
     },
     "execution_count": 7,
     "metadata": {},
     "output_type": "execute_result"
    }
   ],
   "source": [
    "df.head(1)"
   ]
  },
  {
   "cell_type": "markdown",
   "id": "fc3e62a3-8bc4-4ea8-9e33-deda1c2794ee",
   "metadata": {},
   "source": [
    "### Create table in SSMS \n",
    "\n",
    "```\n",
    "USE Sandbox;\n",
    "GO\n",
    "\n",
    "DROP TABLE if EXISTS stg.Titanic;\n",
    "GO\n",
    "\n",
    "CREATE TABLE stg.Titanic(\n",
    "    ID INT,\n",
    "    LastName NVARCHAR(50),\n",
    "    FirstName NVARCHAR(100),\n",
    "    Title NVARCHAR(10),\n",
    "    Gender NVARCHAR(2),\n",
    "    Boarded NVARCHAR(50),\n",
    "    Class NVARCHAR(5),\n",
    "    Yrs\tINT,\n",
    "    Survive NVARCHAR(5)\n",
    ")\n",
    "```"
   ]
  },
  {
   "cell_type": "code",
   "execution_count": 8,
   "id": "32c9aaef-be4e-4f0d-bdbd-355e6a87684f",
   "metadata": {},
   "outputs": [
    {
     "name": "stdout",
     "output_type": "stream",
     "text": [
      "DataFrame written to SQL Server successfully!\n"
     ]
    }
   ],
   "source": [
    "import pymssql\n",
    "\n",
    "# Establish the connection\n",
    "conn = pymssql.connect(server = 'localhost', user = 'sa', password = '1234', database = 'Sandbox')  \n",
    "cursor = conn.cursor()\n",
    "\n",
    "# Insert Dataframe into SQL Server:\n",
    "for index, row in df.iterrows():\n",
    "    insert_q = f\"INSERT INTO stg.Titanic(ID, LastName, FirstName, Title, Gender, Boarded, Class, Yrs, Survive) values(%s,%s,%s,%s,%s,%s,%s,%s,%s)\"\n",
    "    cursor.execute(insert_q, (row['ID'], row['LastName'], row['FirstName'], row['Title'], row['Gender'], row['Boarded'], row['Class'], row['Yrs'], row['Survive'] ))\n",
    "    \n",
    "conn.commit()\n",
    "cursor.close()\n",
    "conn.close()\n",
    "\n",
    "print(\"DataFrame written to SQL Server successfully!\")"
   ]
  },
  {
   "cell_type": "code",
   "execution_count": null,
   "id": "430febcd-397d-488f-84dc-812c82ed910c",
   "metadata": {},
   "outputs": [],
   "source": []
  },
  {
   "cell_type": "code",
   "execution_count": null,
   "id": "1d5cbecb-e39f-4a32-97ad-f8fac6d24b97",
   "metadata": {},
   "outputs": [],
   "source": []
  },
  {
   "cell_type": "code",
   "execution_count": null,
   "id": "0fb530dc-bf49-415a-a989-b239953d3137",
   "metadata": {},
   "outputs": [],
   "source": []
  }
 ],
 "metadata": {
  "kernelspec": {
   "display_name": "Python 3 (ipykernel)",
   "language": "python",
   "name": "python3"
  },
  "language_info": {
   "codemirror_mode": {
    "name": "ipython",
    "version": 3
   },
   "file_extension": ".py",
   "mimetype": "text/x-python",
   "name": "python",
   "nbconvert_exporter": "python",
   "pygments_lexer": "ipython3",
   "version": "3.11.10"
  }
 },
 "nbformat": 4,
 "nbformat_minor": 5
}
