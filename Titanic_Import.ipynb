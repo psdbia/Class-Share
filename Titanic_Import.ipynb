{
 "cells": [
  {
   "cell_type": "markdown",
   "id": "f56f424c-6ad0-40bd-8013-a081521582b0",
   "metadata": {},
   "source": [
    "## DF to MS SQL\n"
   ]
  },
  {
   "cell_type": "code",
   "execution_count": null,
   "id": "76920480-d437-439c-b840-1a04d5d38d04",
   "metadata": {},
   "outputs": [],
   "source": [
    "# uncomment these and run this if not loaded...\n",
    "# !pip3 install pandas\n",
    "# !pip install pymssql"
   ]
  },
  {
   "cell_type": "code",
   "execution_count": null,
   "id": "ef0517b9-1d15-4bac-923b-33a6f0441dfe",
   "metadata": {},
   "outputs": [],
   "source": [
    "import pandas as pd\n",
    "df = pd.read_csv('./data/TitanicFinal_1.csv')\n",
    "df.describe(include='object').T"
   ]
  },
  {
   "cell_type": "code",
   "execution_count": null,
   "id": "c2b99ce8-3b01-4122-92d3-5eda565abc09",
   "metadata": {},
   "outputs": [],
   "source": [
    "df.columns"
   ]
  },
  {
   "cell_type": "code",
   "execution_count": null,
   "id": "daf3d1a2-a340-4320-aca1-201cbdbd32e3",
   "metadata": {},
   "outputs": [],
   "source": [
    "df.head(3)"
   ]
  },
  {
   "cell_type": "code",
   "execution_count": null,
   "id": "b8c9a236-12b6-414f-8ffe-3eaa5bffe2ab",
   "metadata": {},
   "outputs": [],
   "source": [
    "df = df[['ID', 'LastName', 'FirstName', 'Title', 'Gender',  'txt.Boarded', 'txt.Class', 'int.Yrs', 'txt.Survive']]\n",
    "df.columns = ['ID', 'LastName', 'FirstName', 'Title', 'Gender',  'Boarded', 'Class', 'Yrs', 'Survive']"
   ]
  },
  {
   "cell_type": "code",
   "execution_count": null,
   "id": "73968726-a4f0-4eab-9e61-a51f64a46146",
   "metadata": {},
   "outputs": [],
   "source": [
    "df.head(1)"
   ]
  },
  {
   "cell_type": "raw",
   "id": "234bac48-3c38-45aa-aa93-9caf41fd29f3",
   "metadata": {},
   "source": [
    "# Create table in SSMS \n",
    "\n",
    "CREATE TABLE stg.Titanic(\n",
    "    ID INT,\n",
    "    LastName NVARCHAR(50),\n",
    "    FirstName NVARCHAR(50),\n",
    "    Title NVARCHAR(10),\n",
    "    Gender NVARCHAR(2),\n",
    "    Boarded NVARCHAR(50),\n",
    "    Class NVARCHAR(5),\n",
    "    Yrs\tINT,\n",
    "    Survive NVARCHAR(5)\n",
    ")"
   ]
  },
  {
   "cell_type": "code",
   "execution_count": null,
   "id": "32c9aaef-be4e-4f0d-bdbd-355e6a87684f",
   "metadata": {},
   "outputs": [],
   "source": [
    "import pymssql\n",
    "\n",
    "# Establish the connection\n",
    "conn = pymssql.connect(server = 'localhost', user = 'pythonwriter', password = 'passy1234', database = 'Sandbox')  \n",
    "cursor = conn.cursor()\n",
    "\n",
    "# Insert Dataframe into SQL Server:\n",
    "for index, row in df.iterrows():\n",
    "    #cursor.execute(\"INSERT INTO stg.Titanic(ID, LastName, FirstName, Title, Gender, Boarded, Class, Yrs, Survive) values(%s,%s,%s,%s,%s,%s,%s,%s,%s)\", row['ID'], row['LastName'], row['FirstName'], row['Title'], row['Gender'], row['Boarded'], row['Class'], row['Yrs'], row['Survive'])\n",
    "    insert_q = f\"INSERT INTO stg.Titanic(ID, LastName, FirstName, Title, Gender, Boarded, Class, Yrs, Survive) values(%s,%s,%s,%s,%s,%s,%s,%s,%s)\"\n",
    "    cursor.execute(insert_q, (row['ID'], row['LastName'], row['FirstName'], row['Title'], row['Gender'], row['Boarded'], row['Class'], row['Yrs'], row['Survive'] ))\n",
    "    \n",
    "conn.commit()\n",
    "cursor.close()\n",
    "conn.close()\n",
    "\n",
    "print(\"DataFrame written to SQL Server successfully!\")"
   ]
  },
  {
   "cell_type": "code",
   "execution_count": null,
   "id": "430febcd-397d-488f-84dc-812c82ed910c",
   "metadata": {},
   "outputs": [],
   "source": []
  },
  {
   "cell_type": "code",
   "execution_count": null,
   "id": "1d5cbecb-e39f-4a32-97ad-f8fac6d24b97",
   "metadata": {},
   "outputs": [],
   "source": []
  },
  {
   "cell_type": "code",
   "execution_count": null,
   "id": "0fb530dc-bf49-415a-a989-b239953d3137",
   "metadata": {},
   "outputs": [],
   "source": []
  }
 ],
 "metadata": {
  "kernelspec": {
   "display_name": "Python 3 (ipykernel)",
   "language": "python",
   "name": "python3"
  },
  "language_info": {
   "codemirror_mode": {
    "name": "ipython",
    "version": 3
   },
   "file_extension": ".py",
   "mimetype": "text/x-python",
   "name": "python",
   "nbconvert_exporter": "python",
   "pygments_lexer": "ipython3",
   "version": "3.12.4"
  }
 },
 "nbformat": 4,
 "nbformat_minor": 5
}
